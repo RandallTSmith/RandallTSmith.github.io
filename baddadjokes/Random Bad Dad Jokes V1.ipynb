{
 "cells": [
  {
   "cell_type": "markdown",
   "metadata": {},
   "source": [
    "# Bad Dad Joke via json request\n",
    "\n",
    "The following is a simple program that requests a joke from icanhazdadjoke.com, decodes the joke, and then tells us a gut buster.  The request object is decoded in json; therefore we need to use the .json() decoder to pull out the information we need.  Finally, we suppress the security warnings because nothing makes a joke flop more than nasty security warnings.  Becareful suppressing security warnings especially if you are passing along information in your request.  You do not want you information to fall into the hands of Russian hackers. \n",
    "\n",
    "In short, the program is a definite ice breaker at parties, blind dates, or when your teenager's friends are around.\n"
   ]
  },
  {
   "cell_type": "code",
   "execution_count": 3,
   "metadata": {
    "collapsed": false
   },
   "outputs": [
    {
     "name": "stdout",
     "output_type": "stream",
     "text": [
      "To be Frank, I'd have to change my name.\n"
     ]
    }
   ],
   "source": [
    "import requests\n",
    "\n",
    "#remove all the nasty warnings about security\n",
    "#not recommended for unknown sites\n",
    "from requests.packages.urllib3.exceptions import InsecureRequestWarning\n",
    "requests.packages.urllib3.disable_warnings(InsecureRequestWarning)\n",
    "\n",
    "#The best place for truly awful Bad Dad Jokes\n",
    "url = \"https://icanhazdadjoke.com\"\n",
    "\n",
    "#Request a joke \n",
    "response = requests.get(url,verify=False,headers={\"Accept\": \"application/json\"})\n",
    "\n",
    "#decode JSON \n",
    "data = response.json()\n",
    "\n",
    "#tell us something fun pulling out only the joke because id and status are not funny\n",
    "print(data[\"joke\"])"
   ]
  },
  {
   "cell_type": "markdown",
   "metadata": {},
   "source": [
    "## Show what's in data\n",
    "\n",
    "The *data* variable that is decoded via Python builtin json decoder has a few elements to select from.  The following shows what is contained within the data which is a dictionary of id, joke, and status. "
   ]
  },
  {
   "cell_type": "code",
   "execution_count": 6,
   "metadata": {
    "collapsed": false
   },
   "outputs": [
    {
     "name": "stdout",
     "output_type": "stream",
     "text": [
      "{'id': '1DQZvcFBdib', 'joke': \"To be Frank, I'd have to change my name.\", 'status': 200}\n"
     ]
    }
   ],
   "source": [
    "print(data)"
   ]
  },
  {
   "cell_type": "code",
   "execution_count": null,
   "metadata": {
    "collapsed": true
   },
   "outputs": [],
   "source": []
  }
 ],
 "metadata": {
  "anaconda-cloud": {},
  "kernelspec": {
   "display_name": "Python [default]",
   "language": "python",
   "name": "python3"
  },
  "language_info": {
   "codemirror_mode": {
    "name": "ipython",
    "version": 3
   },
   "file_extension": ".py",
   "mimetype": "text/x-python",
   "name": "python",
   "nbconvert_exporter": "python",
   "pygments_lexer": "ipython3",
   "version": "3.5.2"
  }
 },
 "nbformat": 4,
 "nbformat_minor": 2
}
